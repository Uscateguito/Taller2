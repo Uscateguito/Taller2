{
 "cells": [
  {
   "attachments": {},
   "cell_type": "markdown",
   "metadata": {},
   "source": [
    "<hr>\n",
    "<center><strong>  Taller de Optimización y Simulaciones <br> Simulación Montecarlo <br>Teoría de Colas<br>\n",
    "<hr>\n",
    "Taller 1\n",
    "</strong></center>\n",
    "<hr>\n",
    "<center><strong> Hecho por Alejandro Uscátegui </strong></center>\n",
    "<hr>\n",
    "<center><strong> Universidad Javeriana <br> 2023 <br> Prof. Gabriel Zambrano  </strong></center>\n",
    "<hr>"
   ]
  },
  {
   "cell_type": "code",
   "execution_count": 113,
   "metadata": {},
   "outputs": [],
   "source": [
    "# Es necesario instalar pandas, numpy, openpyxl y scipy. Es posible hacer esto con pip.\n",
    "\n",
    "import pandas as pd\n",
    "import math\n",
    "import numpy as np\n",
    "from pulp import *\n",
    "import xlsxwriter\n",
    "import random\n",
    "from openpyxl import load_workbook\n",
    "import scipy.stats as st"
   ]
  },
  {
   "attachments": {},
   "cell_type": "markdown",
   "metadata": {},
   "source": [
    "<i>Indicamos las constantes, creamos la tabla e indicamos las variables</i>\n",
    "\n",
    "1. Sabemos que se cumple la condición de estabilidad pues lambda es menor a miu\n"
   ]
  },
  {
   "cell_type": "code",
   "execution_count": 114,
   "metadata": {},
   "outputs": [],
   "source": [
    "# Constantes\n",
    "\n",
    "lambdaa = 0.05\n",
    "miu = 0.08\n",
    "acumuladordetiempos = 0\n",
    "\n",
    "# Modelo de Little para el sistema de colas\n",
    "\n",
    "TiempoPromedioEnSistemaTeorico = 1/(miu - lambdaa)\n",
    "tiempoPromedioEnEspera = lambdaa/(miu*(miu - lambdaa))\n",
    "tiempoPromedioServicio = 1/miu\n",
    "utilizaciondelsistemaTeorico = lambdaa/miu\n",
    "CantidadPromedioDeOrdenesEnSistemaTeorico = lambdaa/(miu - lambdaa)\n",
    "CantidadPromedioOrdenesEnColaTeorico = (lambdaa*lambdaa)/(miu*(miu - lambdaa))\n",
    "\n",
    "# Columna de número de replicas\n",
    "\n",
    "Nreplicas = 1000\n",
    "\n",
    "# Variables de la réplica\n",
    "\n",
    "tiempos_espera_cola = []\n",
    "tiempos_espera_sistema = []\n",
    "promedios_cantidad_ordenes_sistema = []\n",
    "promedios_cantidad_ordenes_cola = []\n",
    "\n",
    "\n",
    "# Pensamos que debíamos hacer por listas el programa, pues así podríamos relacionar facilmente\n",
    "# las cabeceras de cada columna, en vez de una matriz\n",
    "\n",
    "for i in range(1000):\n",
    "\n",
    "    clientes = [i+1 for i in range(200)]\n",
    "    # print(clientes)\n",
    "\n",
    "    llegada = [(-1/lambdaa)*math.log(random.random()) for i in range(200)]\n",
    "    # print(llegada)\n",
    "\n",
    "    relojLlegada = []\n",
    "\n",
    "    for i in range(200):\n",
    "        acumuladordetiempos += llegada[i]\n",
    "        relojLlegada.append(acumuladordetiempos)\n",
    "    # print(relojLlegada)\n",
    "\n",
    "    tiempodeServicio = [(-1/miu)*math.log(random.random()) for i in range(200)]\n",
    "    # print(tiempodeServicio)\n",
    "\n",
    "    tiempoEnCola = []\n",
    "    tiempoEnCola.append(0)\n",
    "\n",
    "    inicioServicio = []\n",
    "    inicioServicio.append(relojLlegada[0])\n",
    "\n",
    "    findeServicio = []\n",
    "    findeServicio.append(inicioServicio[0]+tiempodeServicio[0])\n",
    "\n",
    "    for i in range(1, 200):\n",
    "        # inicioServicio.append(relojLlegada) if relojLlegada[i]>(relojLlegada[i-1] + tiempodeServicio[i -1]) else inicioServicio.append(relojLlegada[i-1] + tiempodeServicio[i -1])\n",
    "\n",
    "        if (relojLlegada[i] >= findeServicio[i-1]):\n",
    "            tiempoEnCola.append(0)\n",
    "        else:\n",
    "            tiempoEnCola.append(findeServicio[i-1]-relojLlegada[i])\n",
    "\n",
    "        if (tiempoEnCola[i] == 0):\n",
    "            inicioServicio.append(relojLlegada[i])\n",
    "        else:\n",
    "            inicioServicio.append(findeServicio[i-1])\n",
    "\n",
    "        findeServicio.append(inicioServicio[i] + tiempodeServicio[i])\n",
    "\n",
    "    tiempoTotalSistema = [findeServicio[i] - relojLlegada[i]\n",
    "                          for i in range(200)]\n",
    "\n",
    "    tiempoReposoSistema = []\n",
    "    tiempoReposoSistema.append(relojLlegada[0])\n",
    "\n",
    "    for i in range(1, 200):\n",
    "        tiempoReposoSistema.append(inicioServicio[i] - findeServicio[i-1])\n",
    "\n",
    "    # Variables simuladas\n",
    "\n",
    "    TiempoPromedioEnCola_Simulation = sum(tiempoEnCola)/len(tiempoEnCola)\n",
    "    tiempoPromedioEnElSistema_Simulation = sum(\n",
    "        tiempoTotalSistema)/len(tiempoTotalSistema)\n",
    "    CantidadPromedioDeOrdenesEnSistema_Simulation = lambdaa * \\\n",
    "        tiempoPromedioEnElSistema_Simulation\n",
    "    CantidadPromedioOrdenesEnCola_Simulation = lambdaa*TiempoPromedioEnCola_Simulation\n",
    "\n",
    "    # Lista que recibe cada variable simulada\n",
    "\n",
    "    \n",
    "    tiempos_espera_cola.append(TiempoPromedioEnCola_Simulation)\n",
    "    tiempos_espera_sistema.append(tiempoPromedioEnElSistema_Simulation)\n",
    "    promedios_cantidad_ordenes_sistema.append(\n",
    "        CantidadPromedioDeOrdenesEnSistema_Simulation)\n",
    "    promedios_cantidad_ordenes_cola.append(CantidadPromedioOrdenesEnCola_Simulation)\n",
    "\n",
    "\n",
    "# Línea para crear una matriz de prueba\n",
    "matriz = np.column_stack((promedios_cantidad_ordenes_cola, promedios_cantidad_ordenes_sistema, tiempos_espera_cola, tiempos_espera_sistema))"
   ]
  },
  {
   "cell_type": "code",
   "execution_count": 115,
   "metadata": {},
   "outputs": [
    {
     "name": "stderr",
     "output_type": "stream",
     "text": [
      "C:\\Users\\admin\\AppData\\Local\\Temp\\ipykernel_14128\\3569160868.py:13: FutureWarning: save is not part of the public API, usage can give unexpected results and will be removed in a future version\n",
      "  writer.save()\n"
     ]
    }
   ],
   "source": [
    "writer=pd.ExcelWriter('replicas.xlsx', engine='xlsxwriter')\n",
    "workbook=writer.book\n",
    "\n",
    "dataf=pd.DataFrame([matriz[i,:] for i in range(1000)], columns=['promedios_cantidad_ordenes_cola', 'promedios_cantidad_ordenes_sistema', 'tiempos_espera_cola', 'tiempos_espera_sistema'])\n",
    "\n",
    "dataf.to_excel(\n",
    "    writer,\n",
    "    index=False,\n",
    "    sheet_name= 'prueba'\n",
    ")\n",
    "\n",
    "\n",
    "writer.save()"
   ]
  },
  {
   "attachments": {},
   "cell_type": "markdown",
   "metadata": {},
   "source": [
    "<i>El objetivo de esta última parte es generar en términos de código los intervalos de confianza </i>"
   ]
  },
  {
   "cell_type": "code",
   "execution_count": 116,
   "metadata": {},
   "outputs": [
    {
     "name": "stdout",
     "output_type": "stream",
     "text": [
      "Intervalo de confianza del 95% para la cantidad promedio de órdenes en cola es:  (0.9888772578103492, 1.0454423147953078)\n",
      "Intervalo de confianza del 95% para la cantidad promedio de órdenes en el sistema es:  (1.6151803038547539, 1.675290554915931)\n",
      "Intervalo de confianza del 95% para la cantidad promedio de tiempo que dura una orden en la cola es:  (19.77754515620698, 20.908846295906155)\n",
      "Intervalo de confianza del 95% para la cantidad promedio de tiempo que dura una orden en el sistema es:  (32.30360607709507, 33.50581109831862)\n"
     ]
    }
   ],
   "source": [
    "intervalo_tiempo_espera_cola = st.t.interval(confidence= 0.95, df = len(tiempos_espera_cola)-1, loc =np.mean(tiempos_espera_cola), scale = st.sem(tiempos_espera_cola))\n",
    "intervalo_tiempo_espera_sistema = st.t.interval(confidence= 0.95, df = len(tiempos_espera_sistema)-1, loc =np.mean(tiempos_espera_sistema), scale = st.sem(tiempos_espera_sistema))\n",
    "intervalo_cantidad_ordenes_promedio_cola = st.t.interval(confidence= 0.95, df = len(promedios_cantidad_ordenes_cola)-1, loc =np.mean(promedios_cantidad_ordenes_cola), scale = st.sem(promedios_cantidad_ordenes_cola))\n",
    "intervalo_cantidad_ordenes_promedio_sistema = st.t.interval(confidence= 0.95, df = len(promedios_cantidad_ordenes_sistema)-1, loc =np.mean(promedios_cantidad_ordenes_sistema), scale = st.sem(promedios_cantidad_ordenes_sistema))\n",
    "\n",
    "print(\"Intervalo de confianza del 95% para la cantidad promedio de órdenes en cola es: \", intervalo_cantidad_ordenes_promedio_cola)\n",
    "print(\"Intervalo de confianza del 95% para la cantidad promedio de órdenes en el sistema es: \", intervalo_cantidad_ordenes_promedio_sistema)\n",
    "print(\"Intervalo de confianza del 95% para la cantidad promedio de tiempo que dura una orden en la cola es: \", intervalo_tiempo_espera_cola)\n",
    "print(\"Intervalo de confianza del 95% para la cantidad promedio de tiempo que dura una orden en el sistema es: \",intervalo_tiempo_espera_sistema )"
   ]
  },
  {
   "cell_type": "code",
   "execution_count": 117,
   "metadata": {},
   "outputs": [
    {
     "name": "stdout",
     "output_type": "stream",
     "text": [
      "Según la ley de Little, la cantidad promedio de órdenes en cola es:  1.041666666666667 \n",
      "la cantidad promedio de órdenes en el sistema es:  1.6666666666666667 \n",
      "la cantidad promedio de tiempo que dura una orden en la cola es:  20.833333333333336 \n",
      "la cantidad promedio de tiempo que dura una orden en el sistema es:  33.333333333333336\n"
     ]
    }
   ],
   "source": [
    "\n",
    "\n",
    "print(\"Según la ley de Little, la cantidad promedio de órdenes en cola es: \", CantidadPromedioOrdenesEnColaTeorico, \n",
    "      \"\\nla cantidad promedio de órdenes en el sistema es: \", CantidadPromedioDeOrdenesEnSistemaTeorico,\n",
    "      \"\\nla cantidad promedio de tiempo que dura una orden en la cola es: \", tiempoPromedioEnEspera,\n",
    "      \"\\nla cantidad promedio de tiempo que dura una orden en el sistema es: \", TiempoPromedioEnSistemaTeorico\n",
    ")\n"
   ]
  },
  {
   "cell_type": "code",
   "execution_count": 118,
   "metadata": {},
   "outputs": [
    {
     "data": {
      "text/plain": [
       "\" # Exportamos resultados a excel (sólo para hacer pruebas temporales)\\n\\nwriter=pd.ExcelWriter('pruebas.xlsx', engine='xlsxwriter')\\nworkbook=writer.book\\n\\ndataf=pd.DataFrame([matriz[i,:] for i in range(200)], columns=['clientes', 'llegada', 'relojLlegada', 'tiempodeServicio', 'tiempoEnCola', 'inicioServicio', 'findeServicio', 'tiempoTotalSistema', 'tiempoReposoSistema'])\\n\\ndataf.to_excel(\\n    writer,\\n    index=False,\\n    sheet_name= 'prueba'\\n)\\n\\nwriter.save() \""
      ]
     },
     "execution_count": 118,
     "metadata": {},
     "output_type": "execute_result"
    }
   ],
   "source": [
    "\"\"\" # Exportamos resultados a excel (sólo para hacer pruebas temporales)\n",
    "\n",
    "writer=pd.ExcelWriter('pruebas.xlsx', engine='xlsxwriter')\n",
    "workbook=writer.book\n",
    "\n",
    "dataf=pd.DataFrame([matriz[i,:] for i in range(200)], columns=['clientes', 'llegada', 'relojLlegada', 'tiempodeServicio', 'tiempoEnCola', 'inicioServicio', 'findeServicio', 'tiempoTotalSistema', 'tiempoReposoSistema'])\n",
    "\n",
    "dataf.to_excel(\n",
    "    writer,\n",
    "    index=False,\n",
    "    sheet_name= 'prueba'\n",
    ")\n",
    "\n",
    "writer.save() \"\"\""
   ]
  }
 ],
 "metadata": {
  "kernelspec": {
   "display_name": "Python 3",
   "language": "python",
   "name": "python3"
  },
  "language_info": {
   "codemirror_mode": {
    "name": "ipython",
    "version": 3
   },
   "file_extension": ".py",
   "mimetype": "text/x-python",
   "name": "python",
   "nbconvert_exporter": "python",
   "pygments_lexer": "ipython3",
   "version": "3.11.2"
  },
  "orig_nbformat": 4
 },
 "nbformat": 4,
 "nbformat_minor": 2
}
