{
 "cells": [
  {
   "attachments": {},
   "cell_type": "markdown",
   "metadata": {},
   "source": [
    "<hr>\n",
    "<center><strong>  Taller de Optimización y Simulaciones <br> Simulación Montecarlo <br>Teoría de Colas<br>\n",
    "<hr>\n",
    "Taller 1\n",
    "</strong></center>\n",
    "<hr>\n",
    "<center><strong> Hecho por Alejandro Uscátegui </strong></center>\n",
    "<hr>\n",
    "<center><strong> Universidad Javeriana <br> 2023 <br> Prof. Gabriel Zambrano  </strong></center>\n",
    "<hr>"
   ]
  },
  {
   "cell_type": "code",
   "execution_count": 2,
   "metadata": {},
   "outputs": [],
   "source": [
    "import pandas as pd\n",
    "import math\n",
    "import numpy as np\n",
    "from pulp import *\n",
    "import xlsxwriter\n",
    "import random"
   ]
  },
  {
   "attachments": {},
   "cell_type": "markdown",
   "metadata": {},
   "source": [
    "<i>Indicamos las constantes, creamos la tabla e indicamos las variables</i>\n",
    "\n",
    "1. Sabemos que se cumple la condición de estabilidad pues lambda es menor a miu\n"
   ]
  },
  {
   "cell_type": "code",
   "execution_count": 7,
   "metadata": {},
   "outputs": [],
   "source": [
    "# Constantes\n",
    "\n",
    "lambdaa = 0.05\n",
    "miu = 0.08\n",
    "acumuladordetiempos = 0\n",
    "\n",
    "# Modelo de Little para el sistema de colas\n",
    "\n",
    "TiempoPromedioEnSistemaTeorico = 1/(miu - lambdaa)\n",
    "timepoPromedioEnEspera = lambdaa/(miu*(miu - lambdaa))\n",
    "tiempoPromedioServicio = 1/miu \n",
    "utilizaciondelsistemaTeorico = lambdaa/miu\n",
    "CantidadPromedioDeOrdenesEnSistemaTeorico = lambdaa/(miu - lambdaa)\n",
    "CantidadPromedioOrdenesEnServicioTeorico = utilizaciondelsistemaTeorico\n",
    "\n",
    "# Columna de número de replicas\n",
    "\n",
    "Nreplicas = 1000\n",
    "\n",
    "# Pensamos que debíamos hacer por listas el programa, pues así podríamos relacionar facilmente\n",
    "# las cabeceras de cada columna, en vez de una matriz\n",
    "\n",
    "clientes = [i+1 for i in range(200)]\n",
    "# print(clientes)\n",
    "\n",
    "llegada = [(-1/lambdaa)*math.log(random.random()) for i in range(200)]\n",
    "# print(llegada)\n",
    "\n",
    "relojLlegada = []\n",
    "\n",
    "for i in range(200):\n",
    "    acumuladordetiempos += llegada[i]\n",
    "    relojLlegada.append(acumuladordetiempos)\n",
    "# print(relojLlegada)\n",
    "\n",
    "tiempodeServicio = [(-1/miu)*math.log(random.random()) for i in range(200)]\n",
    "# print(tiempodeServicio)\n",
    "\n",
    "tiempoEnCola = []\n",
    "tiempoEnCola.append(0)\n",
    "\n",
    "inicioServicio = []\n",
    "inicioServicio.append(relojLlegada[0])\n",
    "\n",
    "findeServicio = []\n",
    "findeServicio.append(inicioServicio[0]+tiempodeServicio[0])\n",
    "\n",
    "for i in range(1,200):          \n",
    "    ### inicioServicio.append(relojLlegada) if relojLlegada[i]>(relojLlegada[i-1] + tiempodeServicio[i -1]) else inicioServicio.append(relojLlegada[i-1] + tiempodeServicio[i -1])\n",
    "    \n",
    "    if(relojLlegada[i]>=findeServicio[i-1]):\n",
    "        tiempoEnCola.append(0)\n",
    "    else:\n",
    "        tiempoEnCola.append(findeServicio[i-1]-relojLlegada[i])\n",
    "    \n",
    "    if(tiempoEnCola[i] == 0):\n",
    "        inicioServicio.append(relojLlegada[i])\n",
    "    else:\n",
    "        inicioServicio.append(findeServicio[i-1])\n",
    "    \n",
    "    findeServicio.append(inicioServicio[i] + tiempodeServicio[i])\n",
    "        \n",
    "tiempoTotalSistema = [findeServicio[i] - relojLlegada[i] for i in range(200)]\n",
    "\n",
    "tiempoReposoSistema = []\n",
    "tiempoReposoSistema.append(relojLlegada[0])\n",
    "\n",
    "for i in range(1,200):\n",
    "    tiempoReposoSistema.append(inicioServicio[i] - findeServicio[i-1])\n",
    "\n",
    "# Variables simuladas \n",
    "\n",
    "TiempoPromedioEnCola_Simulation = sum(tiempoEnCola)/len(tiempoEnCola)\n",
    "tiempoPromedioEnElSistema_Simulation = sum(tiempoTotalSistema)/len(tiempoTotalSistema)\n",
    "CantidadPromedioDeOrdenesEnSistema_Simulation = lambdaa*tiempoPromedioEnElSistema_Simulation\n",
    "CantidadPromedioOrdenesEnCola_Simulation = lambdaa*TiempoPromedioEnCola_Simulation\n",
    "\n",
    "# Lista que recibe cada variable simulada\n",
    "\n",
    "tiempos_espera = []\n",
    "tiempos_espera.append(TiempoPromedioEnCola_Simulation)\n",
    "tiempos_servicio = []\n",
    "tiempos_servicio.append(tiempoPromedioEnElSistema_Simulation)\n",
    "promedios_ordenes_sistema = []\n",
    "promedios_ordenes_sistema.append(CantidadPromedioDeOrdenesEnSistema_Simulation)\n",
    "promedio_ordenes_espera = []\n",
    "promedio_ordenes_espera.append(CantidadPromedioOrdenesEnCola_Simulation)\n",
    "\n",
    "    \n",
    "# Línea para crear una matriz de prueba\n",
    "matriz = np.column_stack((tiempos_espera, tiempos_servicio, promedios_ordenes_sistema, promedio_ordenes_espera))"
   ]
  },
  {
   "cell_type": "code",
   "execution_count": 9,
   "metadata": {},
   "outputs": [
    {
     "name": "stderr",
     "output_type": "stream",
     "text": [
      "C:\\Users\\admin\\AppData\\Local\\Temp\\ipykernel_14128\\2466321811.py:12: FutureWarning: save is not part of the public API, usage can give unexpected results and will be removed in a future version\n",
      "  writer.save()\n"
     ]
    }
   ],
   "source": [
    "writer=pd.ExcelWriter('replicas.xlsx', engine='xlsxwriter')\n",
    "workbook=writer.book\n",
    "\n",
    "dataf=pd.DataFrame([matriz[i,:] for i in range(1)], columns=['tiempos_espera', 'tiempos_servicio', 'promedios_ordenes_sistema', 'promedio_ordenes_espera'])\n",
    "\n",
    "dataf.to_excel(\n",
    "    writer,\n",
    "    index=False,\n",
    "    sheet_name= 'prueba'\n",
    ")\n",
    "\n",
    "writer.save()"
   ]
  },
  {
   "cell_type": "code",
   "execution_count": 5,
   "metadata": {},
   "outputs": [
    {
     "name": "stderr",
     "output_type": "stream",
     "text": [
      "C:\\Users\\admin\\AppData\\Local\\Temp\\ipykernel_14128\\1928135098.py:14: FutureWarning: save is not part of the public API, usage can give unexpected results and will be removed in a future version\n",
      "  writer.save()\n"
     ]
    }
   ],
   "source": [
    "\"\"\" # Exportamos resultados a excel (sólo para hacer pruebas temporales)\n",
    "\n",
    "writer=pd.ExcelWriter('pruebas.xlsx', engine='xlsxwriter')\n",
    "workbook=writer.book\n",
    "\n",
    "dataf=pd.DataFrame([matriz[i,:] for i in range(200)], columns=['clientes', 'llegada', 'relojLlegada', 'tiempodeServicio', 'tiempoEnCola', 'inicioServicio', 'findeServicio', 'tiempoTotalSistema', 'tiempoReposoSistema'])\n",
    "\n",
    "dataf.to_excel(\n",
    "    writer,\n",
    "    index=False,\n",
    "    sheet_name= 'prueba'\n",
    ")\n",
    "\n",
    "writer.save() \"\"\""
   ]
  }
 ],
 "metadata": {
  "kernelspec": {
   "display_name": "Python 3",
   "language": "python",
   "name": "python3"
  },
  "language_info": {
   "codemirror_mode": {
    "name": "ipython",
    "version": 3
   },
   "file_extension": ".py",
   "mimetype": "text/x-python",
   "name": "python",
   "nbconvert_exporter": "python",
   "pygments_lexer": "ipython3",
   "version": "3.11.2"
  },
  "orig_nbformat": 4
 },
 "nbformat": 4,
 "nbformat_minor": 2
}
